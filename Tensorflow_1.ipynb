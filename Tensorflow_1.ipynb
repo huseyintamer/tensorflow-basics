{
  "nbformat": 4,
  "nbformat_minor": 0,
  "metadata": {
    "colab": {
      "provenance": [],
      "authorship_tag": "ABX9TyN+tbBbjShcjtxymrM2MLbF",
      "include_colab_link": true
    },
    "kernelspec": {
      "name": "python3",
      "display_name": "Python 3"
    },
    "language_info": {
      "name": "python"
    }
  },
  "cells": [
    {
      "cell_type": "markdown",
      "metadata": {
        "id": "view-in-github",
        "colab_type": "text"
      },
      "source": [
        "<a href=\"https://colab.research.google.com/github/huseyintamer/tensorflow-basics/blob/main/Tensorflow_1.ipynb\" target=\"_parent\"><img src=\"https://colab.research.google.com/assets/colab-badge.svg\" alt=\"Open In Colab\"/></a>"
      ]
    },
    {
      "cell_type": "code",
      "execution_count": null,
      "metadata": {
        "id": "04h81GkjSOKy"
      },
      "outputs": [],
      "source": [
        "import tensorflow as tf\n",
        "from tensorflow.keras.preprocessing.image import ImageDataGenerator"
      ]
    },
    {
      "cell_type": "code",
      "source": [
        "from google.colab import drive\n",
        "drive.mount('/content/gdrive')"
      ],
      "metadata": {
        "colab": {
          "base_uri": "https://localhost:8080/"
        },
        "id": "EKzkFO4BTBoc",
        "outputId": "64fe9fb6-d5fc-4bde-b4ad-c5d754b68a8f"
      },
      "execution_count": null,
      "outputs": [
        {
          "output_type": "stream",
          "name": "stdout",
          "text": [
            "Mounted at /content/gdrive\n"
          ]
        }
      ]
    },
    {
      "cell_type": "code",
      "source": [
        "base_dir=\"gdrive/MyDrive/Colab/\"\n",
        "print(base_dir)"
      ],
      "metadata": {
        "colab": {
          "base_uri": "https://localhost:8080/"
        },
        "id": "guNEtuScTXB2",
        "outputId": "b0e80b57-b438-4c97-be96-64d0b8198d21"
      },
      "execution_count": null,
      "outputs": [
        {
          "output_type": "stream",
          "name": "stdout",
          "text": [
            "gdrive/MyDrive/Colab/\n"
          ]
        }
      ]
    },
    {
      "cell_type": "code",
      "source": [
        "train_datagen=ImageDataGenerator(rescale=1.5/255, validation_split=0.1)\n",
        "\n",
        "test_datagen=ImageDataGenerator(rescale=1.5/255, validation_split=0.1)\n",
        "\n",
        "train_datagen=train_datagen.flow_from_directory(base_dir,target_size=(200,200),subset=\"training\", batch_size=4)\n",
        "\n",
        "test_datagen=test_datagen.flow_from_directory(base_dir, target_size=(200,200),subset=\"validation\", batch_size=4 )"
      ],
      "metadata": {
        "colab": {
          "base_uri": "https://localhost:8080/"
        },
        "id": "q6vspFEIVsJF",
        "outputId": "d52538c8-1c2f-4570-a1dd-4ae0bbc79b80"
      },
      "execution_count": null,
      "outputs": [
        {
          "output_type": "stream",
          "name": "stdout",
          "text": [
            "Found 90 images belonging to 2 classes.\n",
            "Found 10 images belonging to 2 classes.\n"
          ]
        }
      ]
    },
    {
      "cell_type": "code",
      "source": [
        "train_datagen"
      ],
      "metadata": {
        "colab": {
          "base_uri": "https://localhost:8080/"
        },
        "id": "3I-CYFM-WD2C",
        "outputId": "14341946-91e1-4769-d17c-859648139cca"
      },
      "execution_count": null,
      "outputs": [
        {
          "output_type": "execute_result",
          "data": {
            "text/plain": [
              "<keras.preprocessing.image.DirectoryIterator at 0x7fd97a817280>"
            ]
          },
          "metadata": {},
          "execution_count": 6
        }
      ]
    },
    {
      "cell_type": "code",
      "source": [
        "import matplotlib.pyplot as plt\n",
        "\n",
        "for _ in range(5):\n",
        "    img,label=test_datagen.next()\n",
        "    print(img.shape)\n",
        "    plt.imshow(img[0])\n",
        "    print(label[0])\n",
        "    plt.show()"
      ],
      "metadata": {
        "id": "sFyStu3mWSyx"
      },
      "execution_count": null,
      "outputs": []
    },
    {
      "cell_type": "code",
      "source": [
        "import tensorflow as tf\n",
        "import numpy as np\n",
        "import pylab as pl\n",
        "from keras import backend as K\n",
        "import matplotlib.pyplot as plt\n",
        "from keras.utils import np_utils\n",
        "from keras.models import Sequential\n",
        "from keras.layers.convolutional import Conv2D, MaxPooling2D\n",
        "from keras.layers.core import Dense, Dropout, Activation, Flatten\n",
        "from tensorflow.keras import layers,activations"
      ],
      "metadata": {
        "id": "fLJwB22BY60K"
      },
      "execution_count": null,
      "outputs": []
    },
    {
      "cell_type": "code",
      "source": [
        "model=Sequential()\n",
        "\n",
        "model.add(layers.Conv2D(filters=4, activation=\"elu\", kernel_size=(5,5), input_shape=(200,200,3)))\n",
        "model.add(layers.MaxPooling2D(2,2))\n",
        "model.add(layers.Conv2D(filters=8, activation=\"elu\", kernel_size=(3,3)))\n",
        "model.add(layers.MaxPooling2D(2,2))\n",
        "model.add(layers.Conv2D(filters=16, activation=\"elu\", kernel_size=(2,2)))\n",
        "model.add(layers.MaxPooling2D(2,2))\n",
        "model.add(layers.Conv2D(filters=32, activation=\"elu\", kernel_size=(2,2)))\n",
        "\n",
        "model.add(layers.Flatten())\n",
        "\n",
        "model.add(layers.Dense(50, activation=\"elu\"))\n",
        "model.add(layers.Dense(100, activation=\"elu\"))\n",
        "model.add(layers.Dense(100, activation=\"elu\"))\n",
        "model.add(layers.Dense(50, activation=\"elu\"))\n",
        "model.add(layers.Dense(2, activation=\"softmax\"))"
      ],
      "metadata": {
        "id": "-Lwt9eRmbM-v"
      },
      "execution_count": null,
      "outputs": []
    },
    {
      "cell_type": "code",
      "source": [
        "model.summary()"
      ],
      "metadata": {
        "id": "QgytAmtvcFn7"
      },
      "execution_count": null,
      "outputs": []
    },
    {
      "cell_type": "markdown",
      "source": [
        "## **Model Eğitimi**"
      ],
      "metadata": {
        "id": "_A3jdmetcqED"
      }
    },
    {
      "cell_type": "code",
      "source": [
        "optimizer=tf.keras.optimizers.Adamax(learning_rate=0.001)\n",
        "loss=tf.keras.losses.CategoricalCrossentropy()"
      ],
      "metadata": {
        "id": "6Rkx08wGcxOU"
      },
      "execution_count": null,
      "outputs": []
    },
    {
      "cell_type": "code",
      "source": [
        "model.compile(optimizer=optimizer,loss=loss,metrics =[\"mse\",\"accuracy\"])"
      ],
      "metadata": {
        "id": "VMP0DVwRdvo-"
      },
      "execution_count": null,
      "outputs": []
    },
    {
      "cell_type": "code",
      "source": [
        "result=model.fit(train_datagen,epochs=5,verbose=1,validation_data=test_datagen)"
      ],
      "metadata": {
        "id": "ff8S_RMUd5C5"
      },
      "execution_count": null,
      "outputs": []
    },
    {
      "cell_type": "code",
      "source": [
        "model.evaluate(test_datagen)"
      ],
      "metadata": {
        "id": "EYOERzpiJYz4"
      },
      "execution_count": null,
      "outputs": []
    },
    {
      "cell_type": "markdown",
      "source": [
        "## Test Veri Seti Üzerinden Test"
      ],
      "metadata": {
        "id": "F-RoVaMEK2jZ"
      }
    },
    {
      "cell_type": "code",
      "source": [
        "print(test_datagen.class_indices)\n",
        "for _ in range(10):\n",
        "  img, label = train_datagen.next()\n",
        "  a = model.predict(img)\n",
        "  np.argmax(a[0])\n",
        "  plt.imshow(img[0])\n",
        "  if np.argmax(a[0]) == 0:\n",
        "      print(\"cat\")\n",
        "  if np.argmax(a[0]) == 1:\n",
        "      print(\"dog\")\n",
        "  \n",
        "  plt.show()\n"
      ],
      "metadata": {
        "id": "g5ogyOU-K7J_"
      },
      "execution_count": null,
      "outputs": []
    },
    {
      "cell_type": "markdown",
      "source": [
        "## Tek Resim Üzerinden Test"
      ],
      "metadata": {
        "id": "tWP1vAj3MBTT"
      }
    },
    {
      "cell_type": "code",
      "source": [
        "from PIL import Image\n",
        "from skimage import transform"
      ],
      "metadata": {
        "id": "V3Gv0PmeMHop"
      },
      "execution_count": null,
      "outputs": []
    },
    {
      "cell_type": "code",
      "source": [
        "image = Image.open(r\"gdrive/MyDrive/Colab/random/1.jpeg\")\n",
        "\n",
        "def single_image(path):\n",
        "  image = Image.open(path)\n",
        "  image = np.array(image).astype(\"float32\")/255\n",
        "  image = transform.resize(image,(200 ,200, 3))\n",
        "  image = np.expand_dims(image, axis=0)\n",
        "  print(test_datagen.class_indices)\n",
        "  return image\n",
        "\n",
        "image = single_image(\"gdrive/MyDrive/Colab/random/1.jpeg\")\n",
        "pred = model.predict(image)\n",
        "print(pred)\n",
        "np.argmax(pred)"
      ],
      "metadata": {
        "id": "lfg8vw9rMqxQ"
      },
      "execution_count": null,
      "outputs": []
    },
    {
      "cell_type": "code",
      "source": [
        "image = Image.open(r\"gdrive/MyDrive/Colab/random/1.jpeg\")\n",
        "image"
      ],
      "metadata": {
        "id": "0dX1RMhlP962"
      },
      "execution_count": null,
      "outputs": []
    },
    {
      "cell_type": "markdown",
      "source": [
        "## Model Save - Load"
      ],
      "metadata": {
        "id": "sG0hy0d2AiDo"
      }
    },
    {
      "cell_type": "code",
      "source": [
        "model.save(\"gdrive/MyDrive/Colab/\")"
      ],
      "metadata": {
        "id": "prbnTTz8AkVa"
      },
      "execution_count": null,
      "outputs": []
    },
    {
      "cell_type": "code",
      "source": [
        "model.save(\"gdrive/MyDrive/Colab/save_model/animals.h5\")"
      ],
      "metadata": {
        "id": "HmV9ACGQBNF_"
      },
      "execution_count": null,
      "outputs": []
    },
    {
      "cell_type": "code",
      "source": [
        "model.load_weights(\"gdrive/MyDrive/Colab/save_model/animals.h5\")"
      ],
      "metadata": {
        "id": "yn4t0vDjBldn"
      },
      "execution_count": null,
      "outputs": []
    },
    {
      "cell_type": "code",
      "source": [
        "model.evaluate(train_datagen)"
      ],
      "metadata": {
        "id": "3Ic1azmHCDdw"
      },
      "execution_count": null,
      "outputs": []
    },
    {
      "cell_type": "markdown",
      "source": [
        "## Görselleştirme"
      ],
      "metadata": {
        "id": "lS5XXdp9CXpu"
      }
    },
    {
      "cell_type": "code",
      "source": [
        "result.history"
      ],
      "metadata": {
        "id": "bwzEV5SmCZgq"
      },
      "execution_count": null,
      "outputs": []
    },
    {
      "cell_type": "code",
      "source": [
        "acc = result.history[\"accuracy\"]\n",
        "val_acc = result.history[\"val_accuracy\"]\n",
        "acc_loss = result.history[\"loss\"]\n",
        "val_loss = result.history[\"val_loss\"]"
      ],
      "metadata": {
        "id": "NSz_Qji9C4q9"
      },
      "execution_count": null,
      "outputs": []
    },
    {
      "cell_type": "code",
      "source": [
        "epoch=range(1,len(acc)+1)"
      ],
      "metadata": {
        "id": "d_xhS6U_DBtR"
      },
      "execution_count": null,
      "outputs": []
    },
    {
      "cell_type": "code",
      "source": [
        "plt.figure(figsize=(15,6))\n",
        "plt.plot(epoch, acc, label=(\"eğitimin başarısı\"), color=\"g\")\n",
        "plt.plot(epoch, val_acc, label=(\"doğrulama başarısı\"), color=\"b\")\n",
        "plt.title(\"eğitim ve doğrulama başarısı\")\n",
        "plt.legend()"
      ],
      "metadata": {
        "id": "LMQgrpAKDE4Z"
      },
      "execution_count": null,
      "outputs": []
    },
    {
      "cell_type": "code",
      "source": [
        "plt.figure(figsize=(15,6))\n",
        "plt.plot(epoch, acc_loss, label=(\"eğitimin kaybı\"), color=\"r\")\n",
        "plt.plot(epoch, val_loss, label=(\"doğrulama kaybı\"), color=\"b\")\n",
        "plt.title(\"eğitim ve doğrulama kaybı\")\n",
        "plt.legend()"
      ],
      "metadata": {
        "id": "EPtn6PapD08B"
      },
      "execution_count": null,
      "outputs": []
    }
  ]
}